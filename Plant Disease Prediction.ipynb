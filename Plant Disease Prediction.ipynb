{
 "cells": [
  {
   "cell_type": "code",
   "execution_count": 1,
   "id": "39f3714e",
   "metadata": {},
   "outputs": [],
   "source": [
    "import numpy as np\n",
    "import pandas as pd\n",
    "import matplotlib.pyplot as plt\n",
    "from matplotlib.image import imread\n",
    "import cv2\n",
    "import random\n",
    "import os\n",
    "from os import listdir\n",
    "from PIL import Image\n",
    "from tensorflow.keras.utils import img_to_array\n",
    "from keras.optimizers import Adam\n",
    "from keras.models import Sequential\n",
    "from keras.layers import Conv2D, MaxPooling2D, Activation, Flatten, Dropout, Dense\n",
    "from sklearn.model_selection import train_test_split\n",
    "from keras.utils import to_categorical"
   ]
  },
  {
   "cell_type": "code",
   "execution_count": null,
   "id": "eae30ec0",
   "metadata": {},
   "outputs": [],
   "source": [
    "dirs = \"train\"\n",
    "root_dir = listdir(dirs)"
   ]
  },
  {
   "cell_type": "code",
   "execution_count": 7,
   "id": "994364b7",
   "metadata": {},
   "outputs": [],
   "source": [
    "all_labels = [\"Apple___Apple_scab\", \"Apple___healthy\", \"Apple___Black_rot\", \"Apple___Cedar_apple_rust\"]\n",
    "binary_labels = []\n",
    "\n",
    "for root, dirs, files in os.walk(\"train/\", topdown=False):\n",
    "    i = 0\n",
    "    for name in dirs:\n",
    "        all_labels.append(name)\n",
    "        binary_labels.append(i)\n",
    "        i += 1"
   ]
  },
  {
   "cell_type": "code",
   "execution_count": 9,
   "id": "27926fa0",
   "metadata": {},
   "outputs": [],
   "source": [
    "image_list, label_list = [], []\n",
    "dirs = \"train\"\n",
    "root_dir = listdir(dirs)\n",
    "all_labels = [\"Apple___Apple_scab\", \"Apple___healthy\", \"Apple___Black_rot\", \"Apple___Cedar_apple_rust\"]\n",
    "temp = -1\n",
    "\n",
    "for directory in all_labels:\n",
    "    plant_image_list = listdir(f\"{dirs}/{directory}\")\n",
    "    temp += 1\n",
    "    for files in plant_image_list:\n",
    "        image_path = f\"{dirs}/{directory}/{files}\"\n",
    "        try:\n",
    "            image = cv2.imread(image_path)\n",
    "            if image is not None:\n",
    "                image = cv2.resize(image, (256, 256))\n",
    "                image = img_to_array(image)\n",
    "                \n",
    "            else:\n",
    "                image = np.array([])\n",
    "            \n",
    "        except Exception as e:\n",
    "            pass\n",
    "        \n",
    "        image_list.append(image)\n",
    "        label_list.append(binary_labels[temp])"
   ]
  },
  {
   "cell_type": "code",
   "execution_count": 13,
   "id": "e5e49699",
   "metadata": {},
   "outputs": [
    {
     "data": {
      "text/plain": [
       "3"
      ]
     },
     "execution_count": 13,
     "metadata": {},
     "output_type": "execute_result"
    }
   ],
   "source": [
    "label_list[-1]"
   ]
  },
  {
   "cell_type": "code",
   "execution_count": 15,
   "id": "12593273",
   "metadata": {},
   "outputs": [
    {
     "data": {
      "text/plain": [
       "0    2016\n",
       "1    2008\n",
       "2    1987\n",
       "3    1760\n",
       "dtype: int64"
      ]
     },
     "execution_count": 15,
     "metadata": {},
     "output_type": "execute_result"
    }
   ],
   "source": [
    "pd.DataFrame(label_list).value_counts()"
   ]
  },
  {
   "cell_type": "code",
   "execution_count": 16,
   "id": "c8c892d1",
   "metadata": {},
   "outputs": [
    {
     "data": {
      "text/plain": [
       "(256, 256, 3)"
      ]
     },
     "execution_count": 16,
     "metadata": {},
     "output_type": "execute_result"
    }
   ],
   "source": [
    "image_list[0].shape"
   ]
  },
  {
   "cell_type": "code",
   "execution_count": 17,
   "id": "8d7e32e9",
   "metadata": {},
   "outputs": [
    {
     "data": {
      "text/plain": [
       "(7771,)"
      ]
     },
     "execution_count": 17,
     "metadata": {},
     "output_type": "execute_result"
    }
   ],
   "source": [
    "np.array(label_list).shape"
   ]
  },
  {
   "cell_type": "code",
   "execution_count": 36,
   "id": "466bf30c",
   "metadata": {},
   "outputs": [],
   "source": [
    "X_train, X_test, y_train, y_test = train_test_split(image_list, label_list, test_size=0.2, random_state=4242)"
   ]
  },
  {
   "cell_type": "code",
   "execution_count": 37,
   "id": "d1b03391",
   "metadata": {},
   "outputs": [],
   "source": [
    "X_train = np.array(X_train, dtype=np.float16) / 225.0\n",
    "X_test = np.array(X_test, dtype=np.float16) / 225.0"
   ]
  },
  {
   "cell_type": "code",
   "execution_count": 38,
   "id": "e9a00abe",
   "metadata": {},
   "outputs": [],
   "source": [
    "y_train = to_categorical(y_train)\n",
    "y_test = to_categorical(y_test)"
   ]
  },
  {
   "cell_type": "code",
   "execution_count": 45,
   "id": "f9acd679",
   "metadata": {},
   "outputs": [
    {
     "name": "stdout",
     "output_type": "stream",
     "text": [
      "Model: \"sequential_4\"\n",
      "_________________________________________________________________\n",
      " Layer (type)                Output Shape              Param #   \n",
      "=================================================================\n",
      " conv2d_8 (Conv2D)           (None, 256, 256, 32)      1568      \n",
      "                                                                 \n",
      " max_pooling2d_8 (MaxPooling  (None, 64, 64, 32)       0         \n",
      " 2D)                                                             \n",
      "                                                                 \n",
      " conv2d_9 (Conv2D)           (None, 64, 64, 16)        8208      \n",
      "                                                                 \n",
      " max_pooling2d_9 (MaxPooling  (None, 32, 32, 16)       0         \n",
      " 2D)                                                             \n",
      "                                                                 \n",
      " flatten_4 (Flatten)         (None, 16384)             0         \n",
      "                                                                 \n",
      " dense_8 (Dense)             (None, 8)                 131080    \n",
      "                                                                 \n",
      " dense_9 (Dense)             (None, 4)                 36        \n",
      "                                                                 \n",
      "=================================================================\n",
      "Total params: 140,892\n",
      "Trainable params: 140,892\n",
      "Non-trainable params: 0\n",
      "_________________________________________________________________\n"
     ]
    }
   ],
   "source": [
    "model = Sequential()\n",
    "model.add(Conv2D(32, (4,4), padding=\"same\", input_shape=(256, 256, 3), activation=\"relu\"))\n",
    "model.add(MaxPooling2D(pool_size=(4,4)))\n",
    "model.add(Conv2D(16, (4,4), padding=\"same\", activation=\"relu\"))\n",
    "model.add(MaxPooling2D(pool_size=(2,2)))\n",
    "model.add(Flatten())\n",
    "model.add(Dense(8, activation=\"relu\"))\n",
    "model.add(Dense(4, activation=\"softmax\"))\n",
    "model.summary()"
   ]
  },
  {
   "cell_type": "code",
   "execution_count": 46,
   "id": "0d1e4d28",
   "metadata": {},
   "outputs": [],
   "source": [
    "model.compile(loss=\"categorical_crossentropy\", optimizer=Adam(0.0001), metrics=[\"accuracy\"])"
   ]
  },
  {
   "cell_type": "code",
   "execution_count": 41,
   "id": "b2a91388",
   "metadata": {},
   "outputs": [],
   "source": [
    "X_train, X_valid, y_train, y_valid = train_test_split(X_train, y_train, test_size=0.2)"
   ]
  },
  {
   "cell_type": "code",
   "execution_count": 47,
   "id": "7e8e55b4",
   "metadata": {},
   "outputs": [
    {
     "name": "stdout",
     "output_type": "stream",
     "text": [
      "Epoch 1/10\n",
      "39/39 [==============================] - 69s 2s/step - loss: 1.2700 - accuracy: 0.4053 - val_loss: 1.1177 - val_accuracy: 0.5635\n",
      "Epoch 2/10\n",
      "39/39 [==============================] - 70s 2s/step - loss: 0.9769 - accuracy: 0.6364 - val_loss: 0.8498 - val_accuracy: 0.6559\n",
      "Epoch 3/10\n",
      "39/39 [==============================] - 71s 2s/step - loss: 0.7621 - accuracy: 0.7395 - val_loss: 0.6713 - val_accuracy: 0.7862\n",
      "Epoch 4/10\n",
      "39/39 [==============================] - 72s 2s/step - loss: 0.6197 - accuracy: 0.8039 - val_loss: 0.5544 - val_accuracy: 0.8296\n",
      "Epoch 5/10\n",
      "39/39 [==============================] - 74s 2s/step - loss: 0.5349 - accuracy: 0.8238 - val_loss: 0.4867 - val_accuracy: 0.8481\n",
      "Epoch 6/10\n",
      "39/39 [==============================] - 73s 2s/step - loss: 0.4676 - accuracy: 0.8479 - val_loss: 0.4332 - val_accuracy: 0.8561\n",
      "Epoch 7/10\n",
      "39/39 [==============================] - 74s 2s/step - loss: 0.4244 - accuracy: 0.8566 - val_loss: 0.4040 - val_accuracy: 0.8561\n",
      "Epoch 8/10\n",
      "39/39 [==============================] - 74s 2s/step - loss: 0.3959 - accuracy: 0.8640 - val_loss: 0.3734 - val_accuracy: 0.8698\n",
      "Epoch 9/10\n",
      "39/39 [==============================] - 74s 2s/step - loss: 0.3762 - accuracy: 0.8731 - val_loss: 0.3597 - val_accuracy: 0.8722\n",
      "Epoch 10/10\n",
      "39/39 [==============================] - 72s 2s/step - loss: 0.3479 - accuracy: 0.8837 - val_loss: 0.3354 - val_accuracy: 0.8794\n"
     ]
    }
   ],
   "source": [
    "history = model.fit(X_train, y_train, batch_size=128, epochs=10, validation_data=(X_valid, y_valid))"
   ]
  },
  {
   "cell_type": "code",
   "execution_count": 49,
   "id": "fc0186fd",
   "metadata": {},
   "outputs": [
    {
     "data": {
      "image/png": "[encoded data removed]",
      "text/plain": [
       "<Figure size 640x480 with 1 Axes>"
      ]
     },
     "metadata": {},
     "output_type": "display_data"
    }
   ],
   "source": [
    "plt.figure()\n",
    "plt.plot(history.history[\"accuracy\"])\n",
    "plt.plot(history.history[\"val_accuracy\"])\n",
    "plt.title(\"Model Accuracy\")\n",
    "plt.xlabel(\"Epochs\")\n",
    "plt.ylabel(\"Accuracy\")\n",
    "plt.legend([\"train\", \"val\"])\n",
    "plt.show()"
   ]
  },
  {
   "cell_type": "code",
   "execution_count": 50,
   "id": "e0db19c7",
   "metadata": {},
   "outputs": [
    {
     "data": {
      "image/png": "[encoded data removed]",
      "text/plain": [
       "<Figure size 640x480 with 1 Axes>"
      ]
     },
     "metadata": {},
     "output_type": "display_data"
    }
   ],
   "source": [
    "plt.figure()\n",
    "plt.plot(history.history[\"loss\"])\n",
    "plt.plot(history.history[\"val_loss\"])\n",
    "plt.title(\"Model Loss\")\n",
    "plt.xlabel(\"Epochs\")\n",
    "plt.ylabel(\"Loss\")\n",
    "plt.legend([\"train\", \"val\"])\n",
    "plt.show()"
   ]
  },
  {
   "cell_type": "code",
   "execution_count": 48,
   "id": "dd05be4e",
   "metadata": {},
   "outputs": [],
   "source": [
    "model.save(\"PlantDiseaseModel.h5\")"
   ]
  },
  {
   "cell_type": "code",
   "execution_count": null,
   "id": "2259d799",
   "metadata": {},
   "outputs": [],
   "source": []
  }
 ],
 "metadata": {
  "kernelspec": {
   "display_name": "Python 3 (ipykernel)",
   "language": "python",
   "name": "python3"
  },
  "language_info": {
   "codemirror_mode": {
    "name": "ipython",
    "version": 3
   },
   "file_extension": ".py",
   "mimetype": "text/x-python",
   "name": "python",
   "nbconvert_exporter": "python",
   "pygments_lexer": "ipython3",
   "version": "3.8.16"
  }
 },
 "nbformat": 4,
 "nbformat_minor": 5
}
